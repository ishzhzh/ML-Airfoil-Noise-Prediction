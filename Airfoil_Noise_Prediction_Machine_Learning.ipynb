{
  "cells": [
    {
      "cell_type": "markdown",
      "metadata": {
        "id": "OT_09rAyLXf5"
      },
      "source": [
        "<p style=\"text-align:center\">\n",
        "    <a href=\"https://skills.network/?utm_medium=Exinfluencer&utm_source=Exinfluencer&utm_content=000026UJ&utm_term=10006555&utm_id=NA-SkillsNetwork-Channel-SkillsNetworkCoursesIBMSkillsNetworkBD0231ENCoursera2789-2023-01-01\">\n",
        "    <img src=\"https://cf-courses-data.s3.us.cloud-object-storage.appdomain.cloud/assets/logos/SN_web_lightmode.png\" width=\"200\" alt=\"Skills Network Logo\">\n",
        "    </a>\n",
        "</p>\n"
      ]
    },
    {
      "cell_type": "markdown",
      "metadata": {
        "id": "JZsTXYiXLXf7"
      },
      "source": [
        "## Final Project - Build an ML Pipeline for Airfoil noise prediction\n"
      ]
    },
    {
      "cell_type": "markdown",
      "metadata": {
        "id": "KpBY38Y7LXf7"
      },
      "source": [
        "Estimated time needed: **90** minutes\n"
      ]
    },
    {
      "cell_type": "markdown",
      "metadata": {
        "id": "cXOvaC1pLXf7"
      },
      "source": [
        "## Scenario\n"
      ]
    },
    {
      "cell_type": "markdown",
      "metadata": {
        "id": "k1M8uosaLXf7"
      },
      "source": [
        "You are a data engineer at an aeronautics consulting company. Your company prides itself in being able to efficiently design airfoils for use in planes and sports cars. Data scientists in your office need to work with different algorithms and data in different formats. While they are good at Machine Learning, they count on you to be able to do ETL jobs and build ML pipelines. In this project you will use the modified version of the NASA Airfoil Self Noise dataset. You will clean this dataset, by dropping the duplicate rows, and removing the rows with null values. You will create an ML pipe line to create a model that will predict the SoundLevel based on all the other columns. You will evaluate the model and towards the end you will persist the model.\n",
        "\n"
      ]
    },
    {
      "cell_type": "markdown",
      "metadata": {
        "id": "bPdM3WaDLXf7"
      },
      "source": [
        "## Objectives\n",
        "\n",
        "In this 4 part assignment you will:\n",
        "\n",
        "- Part 1 Perform ETL activity\n",
        "  - Load a csv dataset\n",
        "  - Remove duplicates if any\n",
        "  - Drop rows with null values if any\n",
        "  - Make transformations\n",
        "  - Store the cleaned data in parquet format\n",
        "- Part 2 Create a  Machine Learning Pipeline\n",
        "  - Create a machine learning pipeline for prediction\n",
        "- Part 3 Evaluate the Model\n",
        "  - Evaluate the model using relevant metrics\n",
        "- Part 4 Persist the Model\n",
        "  - Save the model for future production use\n",
        "  - Load and verify the stored model\n"
      ]
    },
    {
      "cell_type": "markdown",
      "metadata": {
        "id": "ZE4ADBUmLXf8"
      },
      "source": [
        "## Datasets\n",
        "\n",
        "In this lab you will be using dataset(s):\n",
        "\n",
        " - The original dataset can be found here NASA airfoil self noise dataset. https://archive.ics.uci.edu/dataset/291/airfoil+self+noise\n",
        "\n",
        " - This dataset is licensed under a Creative Commons Attribution 4.0 International (CC BY 4.0) license.\n"
      ]
    },
    {
      "cell_type": "markdown",
      "metadata": {
        "id": "k8hFg0e1LXf8"
      },
      "source": [
        "Diagram of an airfoil. - For informational purpose\n"
      ]
    },
    {
      "cell_type": "markdown",
      "metadata": {
        "id": "2K99LLVHLXf8"
      },
      "source": [
        "![Airfoil with flow](https://cf-courses-data.s3.us.cloud-object-storage.appdomain.cloud/IBMSkillsNetwork-BD0231EN-Coursera/images/Airfoil_with_flow.png)\n"
      ]
    },
    {
      "cell_type": "markdown",
      "metadata": {
        "id": "BkMGeLscLXf8"
      },
      "source": [
        "Diagram showing the Angle of attack. - For informational purpose\n"
      ]
    },
    {
      "cell_type": "markdown",
      "metadata": {
        "id": "nR6PduYJLXf8"
      },
      "source": [
        "![Airfoil angle of attack](https://cf-courses-data.s3.us.cloud-object-storage.appdomain.cloud/IBMSkillsNetwork-BD0231EN-Coursera/images/Airfoil_angle_of_attack.jpg)\n"
      ]
    },
    {
      "cell_type": "markdown",
      "metadata": {
        "id": "cIqwC5KuLXf8"
      },
      "source": [
        "## Before you Start\n"
      ]
    },
    {
      "cell_type": "markdown",
      "metadata": {
        "id": "ywz3YcXdLXf8"
      },
      "source": [
        "Before you start attempting this project it is highly recommended that you finish the practice project.\n"
      ]
    },
    {
      "cell_type": "markdown",
      "metadata": {
        "id": "gcbfAf7ELXf8"
      },
      "source": [
        "## Setup\n"
      ]
    },
    {
      "cell_type": "markdown",
      "metadata": {
        "id": "X-2-aWYLLXf8"
      },
      "source": [
        "For this lab, we will be using the following libraries:\n",
        "\n",
        "*   [`PySpark`](https://spark.apache.org/docs/latest/api/python/index.html?utm_medium=Exinfluencer&utm_source=Exinfluencer&utm_content=000026UJ&utm_term=10006555&utm_id=NA-SkillsNetwork-Channel-SkillsNetworkCoursesIBMSkillsNetworkBD0231ENCoursera2789-2023-01-01) for connecting to the Spark Cluster\n"
      ]
    },
    {
      "cell_type": "markdown",
      "metadata": {
        "id": "KPQ8kEyyLXf8"
      },
      "source": [
        "### Installing Required Libraries\n",
        "\n",
        "Spark Cluster is pre-installed in the Skills Network Labs environment. However, you need libraries like pyspark and findspark to\n",
        " connect to this cluster.\n"
      ]
    },
    {
      "cell_type": "markdown",
      "metadata": {
        "id": "48FAN6xoLXf8"
      },
      "source": [
        "The following required libraries are __not__ pre-installed in the Skills Network Labs environment. __You will need to run the following cell__ to install them:\n"
      ]
    },
    {
      "cell_type": "code",
      "execution_count": 1,
      "metadata": {
        "tags": [],
        "colab": {
          "base_uri": "https://localhost:8080/"
        },
        "id": "1k1AxQrGLXf9",
        "outputId": "52c2d42e-98e1-42e4-a129-23719d97f1ea"
      },
      "outputs": [
        {
          "output_type": "stream",
          "name": "stdout",
          "text": [
            "\u001b[2K     \u001b[90m━━━━━━━━━━━━━━━━━━━━━━━━━━━━━━━━━━━━━━━━\u001b[0m \u001b[32m212.4/212.4 MB\u001b[0m \u001b[31m6.5 MB/s\u001b[0m eta \u001b[36m0:00:00\u001b[0m\n",
            "\u001b[?25h  Preparing metadata (setup.py) ... \u001b[?25l\u001b[?25hdone\n",
            "\u001b[2K     \u001b[90m━━━━━━━━━━━━━━━━━━━━━━━━━━━━━━━━━━━━━━━━\u001b[0m \u001b[32m198.6/198.6 kB\u001b[0m \u001b[31m20.9 MB/s\u001b[0m eta \u001b[36m0:00:00\u001b[0m\n",
            "\u001b[?25h  Building wheel for pyspark (setup.py) ... \u001b[?25l\u001b[?25hdone\n"
          ]
        }
      ],
      "source": [
        "!pip install pyspark==3.1.2 -q\n",
        "!pip install findspark -q"
      ]
    },
    {
      "cell_type": "markdown",
      "metadata": {
        "id": "TeohAbQ1LXf9"
      },
      "source": [
        "### Importing Required Libraries\n",
        "\n",
        "_We recommend you import all required libraries in one place (here):_\n"
      ]
    },
    {
      "cell_type": "code",
      "execution_count": 2,
      "metadata": {
        "tags": [],
        "id": "Ze0MZ5z0LXf9"
      },
      "outputs": [],
      "source": [
        "# You can also use this section to suppress warnings generated by your code:\n",
        "def warn(*args, **kwargs):\n",
        "    pass\n",
        "import warnings\n",
        "warnings.warn = warn\n",
        "warnings.filterwarnings('ignore')\n",
        "\n",
        "# FindSpark simplifies the process of using Apache Spark with Python\n",
        "\n",
        "import findspark\n",
        "findspark.init()"
      ]
    },
    {
      "cell_type": "markdown",
      "metadata": {
        "id": "w2YuIf_ZLXf9"
      },
      "source": [
        "## Part 1 - Perform ETL activity\n"
      ]
    },
    {
      "cell_type": "markdown",
      "metadata": {
        "id": "vzXvsMyBLXf9"
      },
      "source": [
        "### Task 1 - Import required libraries\n"
      ]
    },
    {
      "cell_type": "code",
      "execution_count": 3,
      "metadata": {
        "id": "a1q9CpsWLXf9"
      },
      "outputs": [],
      "source": [
        "#your code goes here\n",
        "#!pip3 install pyspark==3.1.2\n",
        "#!pip install findspark\n",
        "import findspark\n",
        "findspark.init()\n",
        "# Pandas is a popular data science package for Python. In this lab, we use Pandas to load a CSV file from disc to a pandas dataframe in memory.\n",
        "import pandas as pd\n",
        "import matplotlib.pyplot as plt\n",
        "# pyspark is the Spark API for Python. In this lab, we use pyspark to initialize the spark context.\n",
        "from pyspark import SparkContext, SparkConf\n",
        "from pyspark.sql import SparkSession\n"
      ]
    },
    {
      "cell_type": "markdown",
      "metadata": {
        "id": "JVm6sNuBLXf9"
      },
      "source": [
        "### Task 2 - Create a spark session\n"
      ]
    },
    {
      "cell_type": "code",
      "execution_count": 4,
      "metadata": {
        "id": "ZQaEW_lILXf9"
      },
      "outputs": [],
      "source": [
        "# Stop the existing SparkContext if it exists\n",
        "try:\n",
        "    sc.stop()\n",
        "except NameError:\n",
        "    pass\n",
        "\n",
        "# Create a new SparkContext and SparkSession\n",
        "spark = SparkSession.builder.appName(\"Python Spark DataFrames basic example\").getOrCreate()\n",
        "sc = spark.sparkContext\n"
      ]
    },
    {
      "cell_type": "markdown",
      "metadata": {
        "id": "tsvqnNZyLXf-"
      },
      "source": [
        "### Task 3 - Load the csv file into a dataframe\n"
      ]
    },
    {
      "cell_type": "markdown",
      "metadata": {
        "id": "6cBHbMAyLXf-"
      },
      "source": [
        "Download the data file.\n",
        "\n",
        "NOTE : Please ensure you use the dataset below and not the original dataset mentioned above.\n"
      ]
    },
    {
      "cell_type": "code",
      "execution_count": 5,
      "metadata": {
        "colab": {
          "base_uri": "https://localhost:8080/"
        },
        "id": "OTeE34nPLXf-",
        "outputId": "73668292-ac5f-46e8-eed1-2e483430f143"
      },
      "outputs": [
        {
          "output_type": "stream",
          "name": "stdout",
          "text": [
            "--2024-02-05 12:43:18--  https://cf-courses-data.s3.us.cloud-object-storage.appdomain.cloud/IBMSkillsNetwork-BD0231EN-Coursera/datasets/NASA_airfoil_noise_raw.csv\n",
            "Resolving cf-courses-data.s3.us.cloud-object-storage.appdomain.cloud (cf-courses-data.s3.us.cloud-object-storage.appdomain.cloud)... 169.63.118.104\n",
            "Connecting to cf-courses-data.s3.us.cloud-object-storage.appdomain.cloud (cf-courses-data.s3.us.cloud-object-storage.appdomain.cloud)|169.63.118.104|:443... connected.\n",
            "HTTP request sent, awaiting response... 200 OK\n",
            "Length: 60682 (59K) [text/csv]\n",
            "Saving to: ‘NASA_airfoil_noise_raw.csv.1’\n",
            "\n",
            "NASA_airfoil_noise_ 100%[===================>]  59.26K  --.-KB/s    in 0.05s   \n",
            "\n",
            "2024-02-05 12:43:19 (1.15 MB/s) - ‘NASA_airfoil_noise_raw.csv.1’ saved [60682/60682]\n",
            "\n"
          ]
        }
      ],
      "source": [
        "!wget https://cf-courses-data.s3.us.cloud-object-storage.appdomain.cloud/IBMSkillsNetwork-BD0231EN-Coursera/datasets/NASA_airfoil_noise_raw.csv\n"
      ]
    },
    {
      "cell_type": "markdown",
      "metadata": {
        "id": "tz9PphDWLXf-"
      },
      "source": [
        "Load the dataset into the spark dataframe\n"
      ]
    },
    {
      "cell_type": "code",
      "execution_count": 8,
      "metadata": {
        "id": "EQM_uM0CLXf-"
      },
      "outputs": [],
      "source": [
        "# Task 3 - Load the csv file into a dataframe\n",
        "from pyspark.sql import SparkSession\n",
        "\n",
        "# Load the dataset into the spark dataframe\n",
        "spark = SparkSession.builder.appName(\"Python Spark DataFrames basic example\").getOrCreate()\n",
        "df = spark.read.csv(\"NASA_airfoil_noise_raw.csv\", header=True, inferSchema=True)\n"
      ]
    },
    {
      "cell_type": "markdown",
      "metadata": {
        "id": "ucs0qVa5LXf-"
      },
      "source": [
        "### Task 4 - Print top 5 rows of the dataset\n"
      ]
    },
    {
      "cell_type": "code",
      "execution_count": 9,
      "metadata": {
        "colab": {
          "base_uri": "https://localhost:8080/"
        },
        "id": "LQWchBb2LXf-",
        "outputId": "476298e5-0fa8-4ec6-fe3c-d58642ba39b8"
      },
      "outputs": [
        {
          "output_type": "stream",
          "name": "stdout",
          "text": [
            "+---------+-------------+-----------+------------------+-----------------------+----------+\n",
            "|Frequency|AngleOfAttack|ChordLength|FreeStreamVelocity|SuctionSideDisplacement|SoundLevel|\n",
            "+---------+-------------+-----------+------------------+-----------------------+----------+\n",
            "|      800|          0.0|     0.3048|              71.3|             0.00266337|   126.201|\n",
            "|     1000|          0.0|     0.3048|              71.3|             0.00266337|   125.201|\n",
            "|     1250|          0.0|     0.3048|              71.3|             0.00266337|   125.951|\n",
            "|     1600|          0.0|     0.3048|              71.3|             0.00266337|   127.591|\n",
            "|     2000|          0.0|     0.3048|              71.3|             0.00266337|   127.461|\n",
            "+---------+-------------+-----------+------------------+-----------------------+----------+\n",
            "only showing top 5 rows\n",
            "\n"
          ]
        }
      ],
      "source": [
        "\n",
        "# Task 4 - Print top 5 rows of the dataset\n",
        "df.show(5)\n"
      ]
    },
    {
      "cell_type": "markdown",
      "metadata": {
        "id": "KadO3Bz4LXf-"
      },
      "source": [
        "### Task 6 - Print the total number of rows in the dataset\n"
      ]
    },
    {
      "cell_type": "code",
      "execution_count": 10,
      "metadata": {
        "colab": {
          "base_uri": "https://localhost:8080/"
        },
        "id": "8ij8owA9LXf-",
        "outputId": "340bcd75-45c5-46be-855f-d66dabe5e47f"
      },
      "outputs": [
        {
          "output_type": "stream",
          "name": "stdout",
          "text": [
            "1522\n"
          ]
        }
      ],
      "source": [
        "# Task 6 - Print the total number of rows in the dataset\n",
        "rowcount1 = df.count()\n",
        "print(rowcount1)"
      ]
    },
    {
      "cell_type": "markdown",
      "metadata": {
        "id": "TqTRzGODLXf_"
      },
      "source": [
        "### Task 7 - Drop all the duplicate rows from the dataset\n"
      ]
    },
    {
      "cell_type": "code",
      "execution_count": 11,
      "metadata": {
        "id": "E3WWl28mLXf_"
      },
      "outputs": [],
      "source": [
        "# Task 7 - Drop all the duplicate rows from the dataset\n",
        "df = df.dropDuplicates()"
      ]
    },
    {
      "cell_type": "markdown",
      "metadata": {
        "id": "xvQCKvKILXf_"
      },
      "source": [
        "### Task 8 - Print the total number of rows in the dataset\n"
      ]
    },
    {
      "cell_type": "code",
      "execution_count": 12,
      "metadata": {
        "colab": {
          "base_uri": "https://localhost:8080/"
        },
        "id": "lKoniRmBLXf_",
        "outputId": "604cfe0e-a273-4ba6-e53f-a5578ac8952c"
      },
      "outputs": [
        {
          "output_type": "stream",
          "name": "stdout",
          "text": [
            "1503\n"
          ]
        }
      ],
      "source": [
        "# Task 8 - Print the total number of rows in the dataset\n",
        "rowcount2 = df.count()\n",
        "print(rowcount2)"
      ]
    },
    {
      "cell_type": "markdown",
      "metadata": {
        "id": "cAjuS9oBLXf_"
      },
      "source": [
        "### Task 9 - Drop all the rows that contain null values from the dataset\n"
      ]
    },
    {
      "cell_type": "code",
      "execution_count": 13,
      "metadata": {
        "id": "3jWtp-A8LXgD"
      },
      "outputs": [],
      "source": [
        "# Task 9 - Drop all the rows that contain null values from the dataset\n",
        "df = df.na.drop()"
      ]
    },
    {
      "cell_type": "markdown",
      "metadata": {
        "id": "WKO49VZBLXgD"
      },
      "source": [
        "### Task 10 - Print the total number of rows in the dataset\n"
      ]
    },
    {
      "cell_type": "code",
      "execution_count": 14,
      "metadata": {
        "colab": {
          "base_uri": "https://localhost:8080/"
        },
        "id": "zypFEpNRLXgD",
        "outputId": "69279561-2fc2-429f-b3ae-bbec6100cf1f"
      },
      "outputs": [
        {
          "output_type": "stream",
          "name": "stdout",
          "text": [
            "1499\n"
          ]
        }
      ],
      "source": [
        "# Task 10 - Print the total number of rows in the dataset\n",
        "rowcount3 = df.count()\n",
        "print(rowcount3)"
      ]
    },
    {
      "cell_type": "markdown",
      "metadata": {
        "id": "zb-xQP4cLXgD"
      },
      "source": [
        "### Task 11 - Rename the column \"SoundLevel\" to \"SoundLevelDecibels\"Drop\n"
      ]
    },
    {
      "cell_type": "code",
      "execution_count": 15,
      "metadata": {
        "colab": {
          "base_uri": "https://localhost:8080/"
        },
        "id": "nHiJA1lWLXgD",
        "outputId": "e60699cf-4b01-434f-dddf-44ea5701fd6b"
      },
      "outputs": [
        {
          "output_type": "stream",
          "name": "stdout",
          "text": [
            "+---------+-------------+-----------+------------------+-----------------------+------------------+\n",
            "|Frequency|AngleOfAttack|ChordLength|FreeStreamVelocity|SuctionSideDisplacement|SoundLevelDecibels|\n",
            "+---------+-------------+-----------+------------------+-----------------------+------------------+\n",
            "|     4000|          3.0|     0.3048|              31.7|             0.00529514|           115.608|\n",
            "|     3150|          2.0|     0.2286|              31.7|             0.00372371|           121.527|\n",
            "|     2000|          7.3|     0.2286|              31.7|              0.0132672|           115.309|\n",
            "|     2000|          5.4|     0.1524|              71.3|             0.00401199|           131.111|\n",
            "|      500|          9.9|     0.1524|              71.3|              0.0193001|           131.279|\n",
            "+---------+-------------+-----------+------------------+-----------------------+------------------+\n",
            "only showing top 5 rows\n",
            "\n"
          ]
        }
      ],
      "source": [
        "\n",
        "# Task 11 - Rename the column \"SoundLevel\" to \"SoundLevelDecibels\"\n",
        "df = df.withColumnRenamed(\"SoundLevel\", \"SoundLevelDecibels\")\n",
        "df.show(5)\n"
      ]
    },
    {
      "cell_type": "code",
      "execution_count": 16,
      "metadata": {
        "colab": {
          "base_uri": "https://localhost:8080/"
        },
        "id": "2zflAQcHLXgD",
        "outputId": "bd21a734-8d24-4633-ac7b-9a60bf0afcef"
      },
      "outputs": [
        {
          "output_type": "stream",
          "name": "stdout",
          "text": [
            "Collecting fastparquet\n",
            "  Downloading fastparquet-2023.10.1-cp310-cp310-manylinux_2_17_x86_64.manylinux2014_x86_64.whl (1.7 MB)\n",
            "\u001b[2K     \u001b[90m━━━━━━━━━━━━━━━━━━━━━━━━━━━━━━━━━━━━━━━━\u001b[0m \u001b[32m1.7/1.7 MB\u001b[0m \u001b[31m8.5 MB/s\u001b[0m eta \u001b[36m0:00:00\u001b[0m\n",
            "\u001b[?25hRequirement already satisfied: pandas>=1.5.0 in /usr/local/lib/python3.10/dist-packages (from fastparquet) (1.5.3)\n",
            "Requirement already satisfied: numpy>=1.20.3 in /usr/local/lib/python3.10/dist-packages (from fastparquet) (1.23.5)\n",
            "Collecting cramjam>=2.3 (from fastparquet)\n",
            "  Downloading cramjam-2.8.1-cp310-cp310-manylinux_2_17_x86_64.manylinux2014_x86_64.whl (2.0 MB)\n",
            "\u001b[2K     \u001b[90m━━━━━━━━━━━━━━━━━━━━━━━━━━━━━━━━━━━━━━━━\u001b[0m \u001b[32m2.0/2.0 MB\u001b[0m \u001b[31m14.9 MB/s\u001b[0m eta \u001b[36m0:00:00\u001b[0m\n",
            "\u001b[?25hRequirement already satisfied: fsspec in /usr/local/lib/python3.10/dist-packages (from fastparquet) (2023.6.0)\n",
            "Requirement already satisfied: packaging in /usr/local/lib/python3.10/dist-packages (from fastparquet) (23.2)\n",
            "Requirement already satisfied: python-dateutil>=2.8.1 in /usr/local/lib/python3.10/dist-packages (from pandas>=1.5.0->fastparquet) (2.8.2)\n",
            "Requirement already satisfied: pytz>=2020.1 in /usr/local/lib/python3.10/dist-packages (from pandas>=1.5.0->fastparquet) (2023.4)\n",
            "Requirement already satisfied: six>=1.5 in /usr/local/lib/python3.10/dist-packages (from python-dateutil>=2.8.1->pandas>=1.5.0->fastparquet) (1.16.0)\n",
            "Installing collected packages: cramjam, fastparquet\n",
            "Successfully installed cramjam-2.8.1 fastparquet-2023.10.1\n"
          ]
        }
      ],
      "source": [
        "pip install fastparquet"
      ]
    },
    {
      "cell_type": "markdown",
      "metadata": {
        "id": "g24Hi0UfLXgE"
      },
      "source": [
        "### Task 12 - Save the dataframe in parquet formant, name the file as \"NASA_airfoil_noise_cleaned.parquet\"\n"
      ]
    },
    {
      "cell_type": "code",
      "execution_count": 17,
      "metadata": {
        "id": "7G-3huvVLXgE"
      },
      "outputs": [],
      "source": [
        "# Task 12 - Save the dataframe in parquet format, name the file as \"NASA_airfoil_noise_cleaned.parquet\"\n",
        "df.write.parquet(\"NASA_airfoil_noise_cleaned.parquet\", mode=\"overwrite\")"
      ]
    },
    {
      "cell_type": "markdown",
      "metadata": {
        "id": "sb7XTovDLXgE"
      },
      "source": [
        "#### Part 1 - Evaluation\n"
      ]
    },
    {
      "cell_type": "markdown",
      "metadata": {
        "id": "WaRFqGdRLXgE"
      },
      "source": [
        "\n",
        "Run the code cell below.<br>\n",
        "Use the answers here to answer the final evaluation quiz in the next section.<br>\n",
        "If the code throws up any errors, go back and review the code you have written.\n"
      ]
    },
    {
      "cell_type": "code",
      "execution_count": 18,
      "metadata": {
        "colab": {
          "base_uri": "https://localhost:8080/"
        },
        "id": "XfG0opw-LXgE",
        "outputId": "6639e1e2-a5ae-4e25-ecf5-bef3675f0b91"
      },
      "outputs": [
        {
          "output_type": "stream",
          "name": "stdout",
          "text": [
            "Part 1 - Evaluation\n",
            "Total rows =  1522\n",
            "Total rows after dropping duplicate rows =  1503\n",
            "Total rows after dropping duplicate rows and rows with null values =  1499\n",
            "New column name =  SoundLevelDecibels\n",
            "NASA_airfoil_noise_cleaned.parquet exists : True\n"
          ]
        }
      ],
      "source": [
        "print(\"Part 1 - Evaluation\")\n",
        "\n",
        "print(\"Total rows = \", rowcount1)\n",
        "print(\"Total rows after dropping duplicate rows = \", rowcount2)\n",
        "print(\"Total rows after dropping duplicate rows and rows with null values = \", rowcount3)\n",
        "print(\"New column name = \", df.columns[-1])\n",
        "\n",
        "import os\n",
        "\n",
        "print(\"NASA_airfoil_noise_cleaned.parquet exists :\", os.path.isdir(\"NASA_airfoil_noise_cleaned.parquet\"))"
      ]
    },
    {
      "cell_type": "markdown",
      "metadata": {
        "id": "1yrp5RHeLXgE"
      },
      "source": [
        "## Part - 2 Create a  Machine Learning Pipeline\n"
      ]
    },
    {
      "cell_type": "markdown",
      "metadata": {
        "id": "J1zsAdeSLXgE"
      },
      "source": [
        "### Task 1 - Load data from \"NASA_airfoil_noise_cleaned.parquet\" into a dataframe\n"
      ]
    },
    {
      "cell_type": "code",
      "execution_count": 19,
      "metadata": {
        "id": "ADZTcBQtLXgE"
      },
      "outputs": [],
      "source": [
        "# Task 1 - Load data from \"NASA_airfoil_noise_cleaned.parquet\" into a dataframe\n",
        "df = spark.read.parquet(\"NASA_airfoil_noise_cleaned.parquet\")\n"
      ]
    },
    {
      "cell_type": "markdown",
      "metadata": {
        "id": "_lVnmXLLLXgE"
      },
      "source": [
        "### Task 2 - Print the total number of rows in the dataset\n"
      ]
    },
    {
      "cell_type": "code",
      "execution_count": 20,
      "metadata": {
        "colab": {
          "base_uri": "https://localhost:8080/"
        },
        "id": "Igxd9aA6LXgE",
        "outputId": "d2c28a8a-9fbf-40f6-9f19-e9fb0379c737"
      },
      "outputs": [
        {
          "output_type": "stream",
          "name": "stdout",
          "text": [
            "1499\n"
          ]
        }
      ],
      "source": [
        "# Task 2 - Print the total number of rows in the dataset\n",
        "rowcount4 = df.count()\n",
        "print(rowcount4)"
      ]
    },
    {
      "cell_type": "markdown",
      "metadata": {
        "id": "EmL9Ss03LXgE"
      },
      "source": [
        "### Task 3 - Define the VectorAssembler pipeline stage\n"
      ]
    },
    {
      "cell_type": "markdown",
      "metadata": {
        "id": "XGVFNwpaLXgE"
      },
      "source": [
        "Stage 1 - Assemble the input columns into a single column \"features\". Use all the columns except SoundLevelDecibels as input features.\n"
      ]
    },
    {
      "cell_type": "code",
      "execution_count": 21,
      "metadata": {
        "id": "A--9pVqvLXgF"
      },
      "outputs": [],
      "source": [
        "from pyspark.ml.feature import VectorAssembler"
      ]
    },
    {
      "cell_type": "code",
      "execution_count": 22,
      "metadata": {
        "id": "SgeNsTtzLXgF"
      },
      "outputs": [],
      "source": [
        "\n",
        "# Task 3 - Define the VectorAssembler pipeline stage\n",
        "from pyspark.ml.feature import VectorAssembler\n",
        "\n",
        "input_columns = [col for col in df.columns if col != \"SoundLevelDecibels\"]\n",
        "\n",
        "assembler = VectorAssembler(\n",
        "    inputCols=input_columns,\n",
        "    outputCol=\"features\"\n",
        ")"
      ]
    },
    {
      "cell_type": "markdown",
      "metadata": {
        "id": "P0To28dtLXgF"
      },
      "source": [
        "### Task 4 - Define the StandardScaler pipeline stage\n"
      ]
    },
    {
      "cell_type": "markdown",
      "metadata": {
        "id": "1cor63MGLXgF"
      },
      "source": [
        "Stage 2 - Scale the \"features\" using standard scaler and store in \"scaledFeatures\" column\n"
      ]
    },
    {
      "cell_type": "code",
      "execution_count": 23,
      "metadata": {
        "id": "8y1lg40SLXgF"
      },
      "outputs": [],
      "source": [
        "# Task 4 - Define the StandardScaler pipeline stage\n",
        "from pyspark.ml.feature import StandardScaler\n",
        "\n",
        "scaler = StandardScaler(\n",
        "    inputCol=\"features\",\n",
        "    outputCol=\"scaledFeatures\",\n",
        "    withStd=True,\n",
        "    withMean=False\n",
        ")"
      ]
    },
    {
      "cell_type": "markdown",
      "metadata": {
        "id": "5tUc91PjLXgF"
      },
      "source": [
        "### Task 5 - Define the StandardScaler pipeline stage\n"
      ]
    },
    {
      "cell_type": "markdown",
      "metadata": {
        "id": "rX6J-A7ZLXgF"
      },
      "source": [
        "Stage 3 - Create a LinearRegression stage to predict \"SoundLevelDecibels\"\n",
        "\n",
        "**Note:You need to use the scaledfeatures retreived in the previous step.**\n"
      ]
    },
    {
      "cell_type": "code",
      "execution_count": 24,
      "metadata": {
        "id": "pVEJWO5BLXgF"
      },
      "outputs": [],
      "source": [
        "# Task 5 - Define the LinearRegression pipeline stage\n",
        "from pyspark.ml.regression import LinearRegression\n",
        "\n",
        "lr = LinearRegression(\n",
        "    featuresCol=\"scaledFeatures\",\n",
        "    labelCol=\"SoundLevelDecibels\"\n",
        ")"
      ]
    },
    {
      "cell_type": "markdown",
      "metadata": {
        "id": "-cI2cG7HLXgF"
      },
      "source": [
        "### Task 6 - Build the pipeline\n"
      ]
    },
    {
      "cell_type": "markdown",
      "metadata": {
        "id": "u-EipJ-5LXgF"
      },
      "source": [
        "Build a pipeline using the above three stages\n"
      ]
    },
    {
      "cell_type": "code",
      "execution_count": 25,
      "metadata": {
        "id": "oiFKxhvnLXgF"
      },
      "outputs": [],
      "source": [
        "# Task 6 - Build the pipeline\n",
        "from pyspark.ml import Pipeline\n",
        "pipeline = Pipeline(stages=[assembler, scaler, lr])"
      ]
    },
    {
      "cell_type": "markdown",
      "metadata": {
        "id": "TvqsJLyILXgF"
      },
      "source": [
        "### Task 7 - Split the data\n"
      ]
    },
    {
      "cell_type": "code",
      "execution_count": 26,
      "metadata": {
        "id": "AJc3V2w7LXgF"
      },
      "outputs": [],
      "source": [
        "# Task 7 - Split the data\n",
        "(trainingData, testingData) = df.randomSplit([0.7, 0.3], seed=42)"
      ]
    },
    {
      "cell_type": "markdown",
      "metadata": {
        "id": "CPk0NZd9LXgG"
      },
      "source": [
        "### Task 8 - Fit the pipeline\n"
      ]
    },
    {
      "cell_type": "code",
      "execution_count": 27,
      "metadata": {
        "id": "api7LkMdLXgG"
      },
      "outputs": [],
      "source": [
        "# Task 8 - Fit the pipeline\n",
        "pipelineModel = pipeline.fit(trainingData)"
      ]
    },
    {
      "cell_type": "markdown",
      "metadata": {
        "id": "xrMIzi7xLXgG"
      },
      "source": [
        "#### Part 2 - Evaluation\n"
      ]
    },
    {
      "cell_type": "markdown",
      "metadata": {
        "id": "cp_DvfXRLXgG"
      },
      "source": [
        "\n",
        "Run the code cell below.<br>\n",
        "Use the answers here to answer the final evaluation quiz in the next section.<br>\n",
        "If the code throws up any errors, go back and review the code you have written.\n"
      ]
    },
    {
      "cell_type": "code",
      "execution_count": 28,
      "metadata": {
        "colab": {
          "base_uri": "https://localhost:8080/"
        },
        "id": "0RztWsO2LXgG",
        "outputId": "1ba9f456-2008-4dec-bfaf-ec6b4411afca"
      },
      "outputs": [
        {
          "output_type": "stream",
          "name": "stdout",
          "text": [
            "Part 2 - Evaluation\n",
            "Total rows =  1499\n",
            "Pipeline Stage 1 =  VectorAssembler\n",
            "Pipeline Stage 2 =  StandardScaler\n",
            "Pipeline Stage 3 =  LinearRegression\n",
            "Label column =  SoundLevelDecibels\n"
          ]
        }
      ],
      "source": [
        "print(\"Part 2 - Evaluation\")\n",
        "print(\"Total rows = \", rowcount4)\n",
        "ps = [str(x).split(\"_\")[0] for x in pipeline.getStages()]\n",
        "\n",
        "print(\"Pipeline Stage 1 = \", ps[0])\n",
        "print(\"Pipeline Stage 2 = \", ps[1])\n",
        "print(\"Pipeline Stage 3 = \", ps[2])\n",
        "\n",
        "print(\"Label column = \", lr.getLabelCol())"
      ]
    },
    {
      "cell_type": "markdown",
      "metadata": {
        "id": "y_Wu8E8ULXgG"
      },
      "source": [
        "## Part 3 - Evaluate the Model\n"
      ]
    },
    {
      "cell_type": "markdown",
      "metadata": {
        "id": "QwwHLgy1LXgG"
      },
      "source": [
        "### Task 1 - Predict using the model\n"
      ]
    },
    {
      "cell_type": "code",
      "execution_count": 29,
      "metadata": {
        "id": "tvm4qXcjLXgG"
      },
      "outputs": [],
      "source": [
        "# Task 1 - Predict using the model\n",
        "predictions = pipelineModel.transform(testingData)"
      ]
    },
    {
      "cell_type": "markdown",
      "metadata": {
        "id": "d2V9OU68LXgG"
      },
      "source": [
        "### Task 2 - Print the MSE\n"
      ]
    },
    {
      "cell_type": "code",
      "execution_count": 30,
      "metadata": {
        "colab": {
          "base_uri": "https://localhost:8080/"
        },
        "id": "zTLS2lk1LXgG",
        "outputId": "5cedf87b-6cf2-4fd1-93c4-94e9296d80ae"
      },
      "outputs": [
        {
          "output_type": "stream",
          "name": "stdout",
          "text": [
            "Mean Squared Error =  24.354422246772728\n"
          ]
        }
      ],
      "source": [
        "# Task 2 - Print the MSE\n",
        "from pyspark.ml.evaluation import RegressionEvaluator\n",
        "\n",
        "evaluator = RegressionEvaluator(labelCol=\"SoundLevelDecibels\", predictionCol=\"prediction\", metricName=\"mse\")\n",
        "mse = evaluator.evaluate(predictions)\n",
        "print(\"Mean Squared Error = \", mse)"
      ]
    },
    {
      "cell_type": "markdown",
      "metadata": {
        "id": "j7nDNCkuLXgG"
      },
      "source": [
        "### Task 3 - Print the MAE\n"
      ]
    },
    {
      "cell_type": "code",
      "execution_count": 31,
      "metadata": {
        "colab": {
          "base_uri": "https://localhost:8080/"
        },
        "id": "RZP_IFGeLXgG",
        "outputId": "1adb07a1-dc4d-4287-f4d1-76fac64ea612"
      },
      "outputs": [
        {
          "output_type": "stream",
          "name": "stdout",
          "text": [
            "Mean Absolute Error =  3.7287658285335303\n"
          ]
        }
      ],
      "source": [
        "#your code goes here\n",
        "# Task 3 - Print the MAE\n",
        "evaluator = RegressionEvaluator(labelCol=\"SoundLevelDecibels\", predictionCol=\"prediction\", metricName=\"mae\")\n",
        "mae = evaluator.evaluate(predictions)\n",
        "print(\"Mean Absolute Error = \", mae)"
      ]
    },
    {
      "cell_type": "markdown",
      "metadata": {
        "id": "s6eWTnujLXgH"
      },
      "source": [
        "### Task 4 - Print the R-Squared(R2)\n"
      ]
    },
    {
      "cell_type": "code",
      "execution_count": 32,
      "metadata": {
        "colab": {
          "base_uri": "https://localhost:8080/"
        },
        "id": "1tMJFnNYLXgH",
        "outputId": "bd078489-63ee-42a5-c73a-856fa58e82d8"
      },
      "outputs": [
        {
          "output_type": "stream",
          "name": "stdout",
          "text": [
            "R Squared =  0.5053765847518492\n"
          ]
        }
      ],
      "source": [
        "# Task 4 - Print the R-Squared(R2)\n",
        "evaluator = RegressionEvaluator(labelCol=\"SoundLevelDecibels\", predictionCol=\"prediction\", metricName=\"r2\")\n",
        "r2 = evaluator.evaluate(predictions)\n",
        "print(\"R Squared = \", r2)"
      ]
    },
    {
      "cell_type": "markdown",
      "metadata": {
        "id": "nDoKO034LXgH"
      },
      "source": [
        "#### Part 3 - Evaluation\n"
      ]
    },
    {
      "cell_type": "markdown",
      "metadata": {
        "id": "armxmLvzLXgH"
      },
      "source": [
        "\n",
        "Run the code cell below.<br>\n",
        "Use the answers here to answer the final evaluation quiz in the next section.<br>\n",
        "If the code throws up any errors, go back and review the code you have written.\n"
      ]
    },
    {
      "cell_type": "code",
      "execution_count": 33,
      "metadata": {
        "colab": {
          "base_uri": "https://localhost:8080/"
        },
        "id": "wQT6hzN8LXgH",
        "outputId": "62d13c09-0dd4-44ea-f7a0-7cc8afac2367"
      },
      "outputs": [
        {
          "output_type": "stream",
          "name": "stdout",
          "text": [
            "Part 3 - Evaluation\n",
            "Mean Squared Error =  24.35\n",
            "Mean Absolute Error =  3.73\n",
            "R Squared =  0.51\n",
            "Intercept =  132.61\n"
          ]
        }
      ],
      "source": [
        "print(\"Part 3 - Evaluation\")\n",
        "\n",
        "print(\"Mean Squared Error = \", round(mse,2))\n",
        "print(\"Mean Absolute Error = \", round(mae,2))\n",
        "print(\"R Squared = \", round(r2,2))\n",
        "\n",
        "lrModel = pipelineModel.stages[-1]\n",
        "\n",
        "print(\"Intercept = \", round(lrModel.intercept,2))\n"
      ]
    },
    {
      "cell_type": "markdown",
      "metadata": {
        "id": "-7qdOJLxLXgH"
      },
      "source": [
        "## Part 4 - Persist the Model\n"
      ]
    },
    {
      "cell_type": "markdown",
      "metadata": {
        "id": "S3p3A4g7LXgH"
      },
      "source": [
        "### Task 1 - Save the model to the path \"Final_Project\"\n"
      ]
    },
    {
      "cell_type": "code",
      "execution_count": 34,
      "metadata": {
        "id": "x5OHfeIDLXgH"
      },
      "outputs": [],
      "source": [
        "# Save the pipeline model as \"Final_Project\"\n",
        "# your code goes here\n",
        "# Task 1 - Save the model to the path \"Final_Project\"\n",
        "pipelineModel.write().overwrite().save(\"Final_Project\")"
      ]
    },
    {
      "cell_type": "markdown",
      "metadata": {
        "id": "ZZ9KBE2KLXgH"
      },
      "source": [
        "### Task 2 - Load the model from the path \"Final_Project\"\n"
      ]
    },
    {
      "cell_type": "code",
      "execution_count": 37,
      "metadata": {
        "id": "aiuFh7uALXgH"
      },
      "outputs": [],
      "source": [
        "# Task 2 - Load the model from the path \"Final_Project\"\n",
        "from pyspark.ml import PipelineModel\n",
        "loadedPipelineModel = PipelineModel.load(\"Final_Project\")"
      ]
    },
    {
      "cell_type": "markdown",
      "metadata": {
        "id": "lsmGI-8XLXgH"
      },
      "source": [
        "### Task 3 - Make predictions using the loaded model on the testdata\n"
      ]
    },
    {
      "cell_type": "code",
      "execution_count": 38,
      "metadata": {
        "id": "aAky0hmILXgH"
      },
      "outputs": [],
      "source": [
        "# Task 3 - Make predictions using the loaded model on the testdata\n",
        "loadedPredictions = loadedPipelineModel.transform(testingData)"
      ]
    },
    {
      "cell_type": "markdown",
      "metadata": {
        "id": "GXWqAF51LXgH"
      },
      "source": [
        "### Task 4 - Show the predictions\n"
      ]
    },
    {
      "cell_type": "code",
      "execution_count": 39,
      "metadata": {
        "colab": {
          "base_uri": "https://localhost:8080/"
        },
        "id": "xMf0UDQVLXgH",
        "outputId": "f905c880-f0cd-428a-a50a-c3166396c702"
      },
      "outputs": [
        {
          "output_type": "stream",
          "name": "stdout",
          "text": [
            "+------------------+------------------+\n",
            "|SoundLevelDecibels|        prediction|\n",
            "+------------------+------------------+\n",
            "|           128.545|121.25440562914048|\n",
            "|           130.898|122.70281104682431|\n",
            "|           109.951|127.80380966422578|\n",
            "|           112.506|129.44660894124058|\n",
            "|           130.089|122.22655518784543|\n",
            "+------------------+------------------+\n",
            "only showing top 5 rows\n",
            "\n"
          ]
        }
      ],
      "source": [
        "#show top 5 rows from the predections dataframe. Display only the label column and predictions\n",
        "#your code goes here\n",
        "# Task 4 - Show the predictions\n",
        "loadedPredictions.select(\"SoundLevelDecibels\", \"prediction\").show(5)"
      ]
    },
    {
      "cell_type": "markdown",
      "metadata": {
        "id": "eMs7t0-ZLXgI"
      },
      "source": [
        "#### Part 4 - Evaluation\n"
      ]
    },
    {
      "cell_type": "markdown",
      "metadata": {
        "id": "xKh0Qf1lLXgI"
      },
      "source": [
        "\n",
        "Run the code cell below.<br>\n",
        "Use the answers here to answer the final evaluation quiz in the next section.<br>\n",
        "If the code throws up any errors, go back and review the code you have written.\n"
      ]
    },
    {
      "cell_type": "code",
      "execution_count": 40,
      "metadata": {
        "colab": {
          "base_uri": "https://localhost:8080/"
        },
        "id": "kxIeiX9mLXgI",
        "outputId": "617fbec1-e33e-4740-8de8-8dd28d842c4a"
      },
      "outputs": [
        {
          "output_type": "stream",
          "name": "stdout",
          "text": [
            "Part 4 - Evaluation\n",
            "Number of stages in the pipeline =  3\n",
            "Coefficient for Frequency is -3.8894\n",
            "Coefficient for AngleOfAttack is -2.1888\n",
            "Coefficient for ChordLength is -3.4035\n",
            "Coefficient for FreeStreamVelocity is 1.5495\n",
            "Coefficient for SuctionSideDisplacement is -2.1905\n"
          ]
        }
      ],
      "source": [
        "print(\"Part 4 - Evaluation\")\n",
        "\n",
        "loadedmodel = loadedPipelineModel.stages[-1]\n",
        "totalstages = len(loadedPipelineModel.stages)\n",
        "inputcolumns = loadedPipelineModel.stages[0].getInputCols()\n",
        "\n",
        "print(\"Number of stages in the pipeline = \", totalstages)\n",
        "for i,j in zip(inputcolumns, loadedmodel.coefficients):\n",
        "    print(f\"Coefficient for {i} is {round(j,4)}\")"
      ]
    },
    {
      "cell_type": "markdown",
      "metadata": {
        "id": "GRt4L4F0LXgI"
      },
      "source": [
        "### Stop Spark Session\n"
      ]
    },
    {
      "cell_type": "code",
      "execution_count": 41,
      "metadata": {
        "id": "HUQm97hDLXgI"
      },
      "outputs": [],
      "source": [
        "spark.stop()"
      ]
    },
    {
      "cell_type": "markdown",
      "metadata": {
        "id": "3CSlBvbzLXgI"
      },
      "source": [
        "## Authors\n"
      ]
    },
    {
      "cell_type": "markdown",
      "metadata": {
        "id": "Z09inwX0LXgI"
      },
      "source": [
        "[Ramesh Sannareddy](https://www.linkedin.com/in/rsannareddy/?utm_medium=Exinfluencer&utm_source=Exinfluencer&utm_content=000026UJ&utm_term=10006555&utm_id=NA-SkillsNetwork-Channel-SkillsNetworkCoursesIBMBD0231ENSkillsNetwork866-2023-01-01)\n"
      ]
    },
    {
      "cell_type": "markdown",
      "metadata": {
        "id": "DAeGmxvqLXgI"
      },
      "source": [
        "### Other Contributors\n"
      ]
    },
    {
      "cell_type": "markdown",
      "metadata": {
        "id": "htZnyX9qLXgI"
      },
      "source": [
        "## Change Log\n"
      ]
    },
    {
      "cell_type": "markdown",
      "metadata": {
        "id": "GSDgQWk1LXgI"
      },
      "source": [
        "|Date (YYYY-MM-DD)|Version|Changed By|Change Description|\n",
        "|-|-|-|-|\n",
        "|2023-05-26|0.1|Ramesh Sannareddy|Initial Version Created|\n"
      ]
    },
    {
      "cell_type": "markdown",
      "metadata": {
        "id": "joLE_67yLXgI"
      },
      "source": [
        "Copyright © 2023 IBM Corporation. All rights reserved.\n"
      ]
    }
  ],
  "metadata": {
    "kernelspec": {
      "display_name": "Python",
      "language": "python",
      "name": "conda-env-python-py"
    },
    "language_info": {
      "codemirror_mode": {
        "name": "ipython",
        "version": 3
      },
      "file_extension": ".py",
      "mimetype": "text/x-python",
      "name": "python",
      "nbconvert_exporter": "python",
      "pygments_lexer": "ipython3",
      "version": "3.7.12"
    },
    "colab": {
      "provenance": []
    }
  },
  "nbformat": 4,
  "nbformat_minor": 0
}